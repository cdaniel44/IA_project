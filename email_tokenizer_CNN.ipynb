{
 "cells": [
  {
   "cell_type": "code",
   "execution_count": 11,
   "metadata": {},
   "outputs": [],
   "source": [
    "import tensorflow as tf\n",
    "from tensorflow import keras\n",
    "from keras.utils import np_utils\n",
    "from numpy import zeros, newaxis\n",
    "from numpy import array\n",
    "from numpy import reshape\n",
    "import numpy as np\n",
    "import csv\n",
    "import matplotlib.pyplot as plt\n",
    "import re\n",
    "\n",
    "\n",
    "#import dataset\n",
    "\n",
    "# legitime : http://www.impact-im.com/threads/liste-de-500000-e-mail-fran%C3%A7ais.740/\n",
    "# spam : https://github.com/tsirolnik/spam-domains-list/blob/master/spamdomains.txt\n",
    "\n",
    "vocab_size = 50000\n",
    "\n",
    "\n",
    "with open('./dataset/fusion/train_data.csv', newline='', encoding='latin-1') as csvfile:\n",
    "        reader = csv.reader(csvfile)\n",
    "        train_data_tab = []\n",
    "        for line in reader:\n",
    "                train_data_tab.extend(line)\n",
    "\n",
    "for i in range (len(train_data_tab)):\n",
    "    if re.search(r'@.+', train_data_tab[i]):\n",
    "        train_data_tab[i] = re.sub(r'@.+', '@laposte.fr', train_data_tab[i])\n",
    "    elif re.search(r'\\.\\w{3,4}($|\\?)', train_data_tab[i]):\n",
    "        train_data_tab[i] = re.sub(r'\\.\\w{3,4}($|\\?)', '@laposte.fr', train_data_tab[i])\n",
    "    else:\n",
    "        train_data_tab[i] += '@laposte.fr'\n",
    "\n",
    "\n",
    "x_train = []\n",
    "for i in train_data_tab:\n",
    "    x_train.append(i)\n",
    "#x_train = x_train[:5000]\n",
    "\n",
    "\n",
    "\n",
    "##################################################################\n",
    "\n",
    "\n",
    "with open('./dataset/fusion/train_labels.csv', newline='', encoding='latin-1') as csvfile:\n",
    "        reader = csv.reader(csvfile)\n",
    "        train_labels = []\n",
    "        for line in reader:\n",
    "                train_labels.extend(line)\n",
    "                \n",
    "train_labels = list(map(int, train_labels))\n",
    "#train_labels = train_labels[:5000]\n",
    "\n",
    "\n",
    "\n",
    "##################################################################\n",
    "\n",
    "\n",
    "with open('./dataset/fusion/test_data.csv', newline='', encoding='latin-1') as csvfile:\n",
    "        reader = csv.reader(csvfile)\n",
    "        test_data_tab = []\n",
    "        for line in reader:\n",
    "                test_data_tab.extend(line)\n",
    "\n",
    "for i in range (len(test_data_tab)):\n",
    "    if re.search(r'@.+', test_data_tab[i]):\n",
    "        test_data_tab[i] = re.sub(r'@.+', '@laposte.fr', test_data_tab[i])\n",
    "    elif re.search(r'\\.\\w{3,4}($|\\?)', test_data_tab[i]):\n",
    "        test_data_tab[i] = re.sub(r'\\.\\w{3,4}($|\\?)', '@laposte.fr', test_data_tab[i])\n",
    "    else:\n",
    "        test_data_tab[i] += '@laposte.fr'\n",
    "        \n",
    "\n",
    "\n",
    "x_test = []\n",
    "for i in test_data_tab:\n",
    "    x_test.append(i)\n",
    "#x_test = x_test[:5000]\n",
    "\n",
    "##################################################################\n",
    "\n",
    "\n",
    "\n",
    "with open('./dataset/fusion/test_labels.csv', newline='', encoding='latin-1') as csvfile:\n",
    "        reader = csv.reader(csvfile)\n",
    "        test_labels = []\n",
    "        for line in reader:\n",
    "                test_labels.extend(line)\n",
    "\n",
    "test_labels = list(map(int, test_labels))\n",
    "#test_labels = test_labels[:5000]\n",
    "\n",
    "\n",
    "\n",
    "\n",
    "\n",
    "\n"
   ]
  },
  {
   "cell_type": "code",
   "execution_count": 12,
   "metadata": {
    "scrolled": false
   },
   "outputs": [],
   "source": [
    "from keras.preprocessing.text import Tokenizer\n",
    "\n",
    "max_words = 1000\n",
    "num_classes = max(train_labels) + 1\n",
    "\n",
    "\n",
    "t = Tokenizer(num_words = max_words)\n",
    "\n",
    "t.fit_on_texts(x_train)\n",
    "x_train = t.texts_to_matrix(x_train, mode='count')\n",
    "x_test = t.texts_to_matrix(x_test, mode='count')\n",
    "\n",
    "y_train = keras.utils.to_categorical(train_labels, num_classes)\n",
    "y_test = keras.utils.to_categorical(test_labels, num_classes)"
   ]
  },
  {
   "cell_type": "code",
   "execution_count": 3,
   "metadata": {},
   "outputs": [
    {
     "name": "stdout",
     "output_type": "stream",
     "text": [
      "shape x_train : (50000, 1000)\n",
      "shape x_test : (50000, 1000)\n",
      "shape y_train : (50000, 2)\n",
      "shape y_test : (50000, 2)\n"
     ]
    }
   ],
   "source": [
    "print('shape x_train : {}'.format(x_train.shape))\n",
    "print('shape x_test : {}'.format(x_test.shape))\n",
    "print('shape y_train : {}'.format(y_train.shape))\n",
    "print('shape y_test : {}'.format(y_test.shape))"
   ]
  },
  {
   "cell_type": "code",
   "execution_count": 13,
   "metadata": {},
   "outputs": [],
   "source": [
    "x_train = x_train.reshape(50000,1000,1)\n",
    "x_test = x_test.reshape(50000,1000,1)"
   ]
  },
  {
   "cell_type": "code",
   "execution_count": 5,
   "metadata": {},
   "outputs": [
    {
     "name": "stdout",
     "output_type": "stream",
     "text": [
      "shape x_train : (50000, 1000, 1)\n",
      "shape x_test : (50000, 1000, 1)\n",
      "shape y_train : (50000, 2)\n",
      "shape y_test : (50000, 2)\n"
     ]
    }
   ],
   "source": [
    "print('shape x_train : {}'.format(x_train.shape))\n",
    "print('shape x_test : {}'.format(x_test.shape))\n",
    "print('shape y_train : {}'.format(y_train.shape))\n",
    "print('shape y_test : {}'.format(y_test.shape))"
   ]
  },
  {
   "cell_type": "code",
   "execution_count": 14,
   "metadata": {},
   "outputs": [
    {
     "name": "stdout",
     "output_type": "stream",
     "text": [
      "Train on 50000 samples, validate on 50000 samples\n",
      "Epoch 1/4\n",
      "50000/50000 [==============================] - 84s 2ms/step - loss: 0.5929 - acc: 0.6046 - val_loss: 0.5561 - val_acc: 0.6288\n",
      "Epoch 2/4\n",
      "50000/50000 [==============================] - 83s 2ms/step - loss: 0.5372 - acc: 0.6285 - val_loss: 0.5376 - val_acc: 0.6322\n",
      "Epoch 3/4\n",
      "50000/50000 [==============================] - 86s 2ms/step - loss: 0.5291 - acc: 0.6318 - val_loss: 0.5354 - val_acc: 0.6328\n",
      "Epoch 4/4\n",
      "50000/50000 [==============================] - 88s 2ms/step - loss: 0.5251 - acc: 0.6299 - val_loss: 0.5351 - val_acc: 0.6333\n"
     ]
    }
   ],
   "source": [
    "#build le model\n",
    "\n",
    "from keras.models import Sequential\n",
    "from keras.layers import Dense, Dropout, Activation, MaxPooling2D, Conv1D, Flatten, MaxPooling1D, Embedding, Reshape\n",
    "\n",
    "\n",
    "\n",
    "\n",
    "\n",
    "# input: 2D tensor of integer indices of characters (eg. 1-57). \n",
    "# input tensor has shape (samples, maxlen)\n",
    "model = Sequential()\n",
    "model.add(Conv1D(32, kernel_size=(3),\n",
    "                 activation='relu',\n",
    "                 input_shape=(1000,1)))\n",
    "model.add(Conv1D(64, (3), activation='relu'))\n",
    "model.add(MaxPooling1D(pool_size=(2)))\n",
    "model.add(Dropout(0.25))\n",
    "model.add(Flatten())\n",
    "model.add(Dense(128, activation='relu'))\n",
    "model.add(Dropout(0.5))\n",
    "model.add(Dense(num_classes, activation='softmax'))\n",
    "\n",
    "model.compile(optimizer=tf.train.AdamOptimizer(),\n",
    "              loss='binary_crossentropy',\n",
    "              metrics=['accuracy'])\n",
    "\n",
    "\n",
    "\n",
    "\n",
    "history = model.fit(x_train,\n",
    "                    y_train,\n",
    "                    epochs=4,\n",
    "                    batch_size=512,\n",
    "                    validation_data=(x_test, y_test),\n",
    "                    verbose=1)\n",
    "\n",
    "\n",
    "\n",
    "\n"
   ]
  },
  {
   "cell_type": "code",
   "execution_count": 15,
   "metadata": {},
   "outputs": [
    {
     "data": {
      "image/png": "[encoded data removed]",
      "text/plain": [
       "<Figure size 432x288 with 1 Axes>"
      ]
     },
     "metadata": {},
     "output_type": "display_data"
    }
   ],
   "source": [
    "acc_values = history.history['acc']\n",
    "val_acc_values = history.history['val_acc']\n",
    "\n",
    "\n",
    "plt.plot(acc_values, 'b', label='Training acc')\n",
    "plt.plot( val_acc_values, 'b',color='red', label='Validation acc')\n",
    "\n",
    "plt.title('Training and validation accuracy')\n",
    "plt.xlabel('Epochs')\n",
    "plt.ylabel('Accuracy')\n",
    "plt.legend()\n",
    "\n",
    "plt.show()"
   ]
  },
  {
   "cell_type": "code",
   "execution_count": 24,
   "metadata": {},
   "outputs": [
    {
     "name": "stdout",
     "output_type": "stream",
     "text": [
      "[1]\n"
     ]
    }
   ],
   "source": [
    "\n",
    "##################################\n",
    "##                              ##\n",
    "##            evaluate          ##\n",
    "##                              ##\n",
    "##################################\n",
    "# Evaluate the model\n",
    "\n",
    "#results = model.evaluate(test_data, test_labels)\n",
    "#print(results)\n",
    "\n",
    "\n",
    "\n",
    "evaluate_data = ['nl.rating-slimming@laposte.fr']\n",
    "evaluate_data = t.texts_to_matrix(evaluate_data, mode='count')\n",
    "evaluate_data = evaluate_data.reshape(1,1000,1)\n",
    "predicted_classes = model.predict_classes(evaluate_data)\n",
    "print(predicted_classes)"
   ]
  }
 ],
 "metadata": {
  "kernelspec": {
   "display_name": "Python 3",
   "language": "python",
   "name": "python3"
  },
  "language_info": {
   "codemirror_mode": {
    "name": "ipython",
    "version": 3
   },
   "file_extension": ".py",
   "mimetype": "text/x-python",
   "name": "python",
   "nbconvert_exporter": "python",
   "pygments_lexer": "ipython3",
   "version": "3.5.5"
  }
 },
 "nbformat": 4,
 "nbformat_minor": 2
}
