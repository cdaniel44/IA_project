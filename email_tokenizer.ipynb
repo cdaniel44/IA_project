{
 "cells": [
  {
   "cell_type": "code",
   "execution_count": 1,
   "metadata": {},
   "outputs": [
    {
     "name": "stderr",
     "output_type": "stream",
     "text": [
      "Using TensorFlow backend.\n"
     ]
    }
   ],
   "source": [
    "import tensorflow as tf\n",
    "from tensorflow import keras\n",
    "from keras.preprocessing.text import text_to_word_sequence\n",
    "from keras.preprocessing.text import one_hot\n",
    "from keras.preprocessing.text import hashing_trick\n",
    "from keras.preprocessing.sequence import pad_sequences\n",
    "from keras.utils import np_utils\n",
    "from numpy import zeros, newaxis\n",
    "from numpy import array\n",
    "from numpy import reshape\n",
    "import numpy as np\n",
    "import csv\n",
    "import matplotlib.pyplot as plt\n",
    "import re\n",
    "\n",
    "\n",
    "#import dataset\n",
    "\n",
    "# legitime : http://www.impact-im.com/threads/liste-de-500000-e-mail-fran%C3%A7ais.740/\n",
    "# spam : https://github.com/tsirolnik/spam-domains-list/blob/master/spamdomains.txt\n",
    "\n",
    "vocab_size = 50000\n",
    "\n",
    "\n",
    "with open('./dataset/fusion/train_data.csv', newline='', encoding='latin-1') as csvfile:\n",
    "        reader = csv.reader(csvfile)\n",
    "        train_data_tab = []\n",
    "        for line in reader:\n",
    "                train_data_tab.extend(line)\n",
    "\n",
    "for i in range (len(train_data_tab)):\n",
    "    if re.search(r'@.+', train_data_tab[i]):\n",
    "        train_data_tab[i] = re.sub(r'@.+', '@laposte.fr', train_data_tab[i])\n",
    "    elif re.search(r'\\.\\w{3,4}($|\\?)', train_data_tab[i]):\n",
    "        train_data_tab[i] = re.sub(r'\\.\\w{3,4}($|\\?)', '@laposte.fr', train_data_tab[i])\n",
    "    else:\n",
    "        train_data_tab[i] += '@laposte.fr'\n",
    "\n",
    "\n",
    "x_train = []\n",
    "for i in train_data_tab:\n",
    "    x_train.append(i)\n",
    "#x_train = x_train[:5000]\n",
    "\n",
    "\n",
    "\n",
    "##################################################################\n",
    "\n",
    "\n",
    "with open('./dataset/fusion/train_labels.csv', newline='', encoding='latin-1') as csvfile:\n",
    "        reader = csv.reader(csvfile)\n",
    "        train_labels = []\n",
    "        for line in reader:\n",
    "                train_labels.extend(line)\n",
    "                \n",
    "train_labels = list(map(int, train_labels))\n",
    "#train_labels = train_labels[:5000]\n",
    "\n",
    "\n",
    "\n",
    "##################################################################\n",
    "\n",
    "\n",
    "with open('./dataset/fusion/test_data.csv', newline='', encoding='latin-1') as csvfile:\n",
    "        reader = csv.reader(csvfile)\n",
    "        test_data_tab = []\n",
    "        for line in reader:\n",
    "                test_data_tab.extend(line)\n",
    "\n",
    "for i in range (len(test_data_tab)):\n",
    "    if re.search(r'@.+', test_data_tab[i]):\n",
    "        test_data_tab[i] = re.sub(r'@.+', '@laposte.fr', test_data_tab[i])\n",
    "    elif re.search(r'\\.\\w{3,4}($|\\?)', test_data_tab[i]):\n",
    "        test_data_tab[i] = re.sub(r'\\.\\w{3,4}($|\\?)', '@laposte.fr', test_data_tab[i])\n",
    "    else:\n",
    "        test_data_tab[i] += '@laposte.fr'\n",
    "        \n",
    "\n",
    "\n",
    "x_test = []\n",
    "for i in test_data_tab:\n",
    "    x_test.append(i)\n",
    "#x_test = x_test[:5000]\n",
    "\n",
    "##################################################################\n",
    "\n",
    "\n",
    "\n",
    "with open('./dataset/fusion/test_labels.csv', newline='', encoding='latin-1') as csvfile:\n",
    "        reader = csv.reader(csvfile)\n",
    "        test_labels = []\n",
    "        for line in reader:\n",
    "                test_labels.extend(line)\n",
    "\n",
    "test_labels = list(map(int, test_labels))\n",
    "#test_labels = test_labels[:5000]\n",
    "\n",
    "\n",
    "\n",
    "\n",
    "\n",
    "\n"
   ]
  },
  {
   "cell_type": "code",
   "execution_count": 2,
   "metadata": {
    "scrolled": false
   },
   "outputs": [],
   "source": [
    "from keras.preprocessing.text import Tokenizer\n",
    "\n",
    "max_words = 1000\n",
    "num_classes = max(train_labels) + 1\n",
    "\n",
    "\n",
    "t = Tokenizer(num_words = max_words)\n",
    "\n",
    "t.fit_on_texts(x_train)\n",
    "x_train = t.texts_to_matrix(x_train, mode='count')\n",
    "x_test = t.texts_to_matrix(x_test, mode='count')\n",
    "\n",
    "y_train = keras.utils.to_categorical(train_labels, num_classes)\n",
    "y_test = keras.utils.to_categorical(test_labels, num_classes)"
   ]
  },
  {
   "cell_type": "code",
   "execution_count": 5,
   "metadata": {},
   "outputs": [
    {
     "name": "stdout",
     "output_type": "stream",
     "text": [
      "shape x_train : (50000, 1000)\n",
      "shape x_test : (50000, 1000)\n",
      "shape y_train : (50000, 2)\n",
      "shape y_test : (50000, 2)\n",
      "svam-systems@laposte.fr\n",
      "[0. 1.]\n"
     ]
    }
   ],
   "source": [
    "print('shape x_train : {}'.format(x_train.shape))\n",
    "print('shape x_test : {}'.format(x_test.shape))\n",
    "print('shape y_train : {}'.format(y_train.shape))\n",
    "print('shape y_test : {}'.format(y_test.shape))\n",
    "print(train_data_tab[5])\n",
    "print(y_train[5])"
   ]
  },
  {
   "cell_type": "code",
   "execution_count": 18,
   "metadata": {},
   "outputs": [
    {
     "name": "stdout",
     "output_type": "stream",
     "text": [
      "Train on 50000 samples, validate on 50000 samples\n",
      "Epoch 1/2\n",
      "50000/50000 [==============================] - 7s 142us/step - loss: 0.5669 - acc: 0.6192 - val_loss: 0.5356 - val_acc: 0.6329\n",
      "Epoch 2/2\n",
      "50000/50000 [==============================] - 7s 137us/step - loss: 0.5298 - acc: 0.6318 - val_loss: 0.5333 - val_acc: 0.6331\n"
     ]
    }
   ],
   "source": [
    "#build le model\n",
    "\n",
    "from keras.models import Sequential\n",
    "from keras.layers import Dense, Dropout, Activation\n",
    "\n",
    "\n",
    "\n",
    "\n",
    "\n",
    "model = Sequential()\n",
    "#model.add(keras.layers.Embedding(50000,1))\n",
    "#model.add(keras.layers.GlobalAveragePooling1D())\n",
    "#model.add(keras.layers.Dense(512, activation=tf.nn.sigmoid))\n",
    "#model.add(keras.layers.Dense(1, activation=tf.nn.sigmoid))\n",
    "model.add(Dense(512, input_shape=(max_words,)))\n",
    "model.add(Activation('relu'))\n",
    "model.add(Dropout(0.5))\n",
    "model.add(Dense(num_classes))\n",
    "model.add(Activation('softmax'))\n",
    "\n",
    "#model.summary()\n",
    "\n",
    "\n",
    "model.compile(optimizer=tf.train.AdamOptimizer(),\n",
    "              loss='binary_crossentropy',\n",
    "              metrics=['accuracy'])\n",
    "\n",
    "\n",
    "\n",
    "\n",
    "history = model.fit(x_train,\n",
    "                    y_train,\n",
    "                    epochs=2,\n",
    "                    batch_size=32,\n",
    "                    validation_data=(x_test, y_test),\n",
    "                    verbose=1)\n",
    "\n",
    "\n",
    "\n",
    "\n"
   ]
  },
  {
   "cell_type": "code",
   "execution_count": 19,
   "metadata": {},
   "outputs": [
    {
     "data": {
      "image/png": "[encoded data removed]",
      "text/plain": [
       "<Figure size 432x288 with 1 Axes>"
      ]
     },
     "metadata": {},
     "output_type": "display_data"
    }
   ],
   "source": [
    "acc_values = history.history['acc']\n",
    "val_acc_values = history.history['val_acc']\n",
    "\n",
    "\n",
    "plt.plot(acc_values, 'b', label='Training acc')\n",
    "plt.plot( val_acc_values, 'b',color='red', label='Validation acc')\n",
    "\n",
    "plt.title('Training and validation accuracy')\n",
    "plt.xlabel('Epochs')\n",
    "plt.ylabel('Accuracy')\n",
    "plt.legend()\n",
    "\n",
    "plt.show()"
   ]
  },
  {
   "cell_type": "code",
   "execution_count": 17,
   "metadata": {},
   "outputs": [
    {
     "name": "stdout",
     "output_type": "stream",
     "text": [
      "[1]\n"
     ]
    }
   ],
   "source": [
    "\n",
    "##################################\n",
    "##                              ##\n",
    "##            evaluate          ##\n",
    "##                              ##\n",
    "##################################\n",
    "# Evaluate the model\n",
    "\n",
    "#results = model.evaluate(test_data, test_labels)\n",
    "#print(results)\n",
    "\n",
    "\n",
    "\n",
    "evaluate_data = ['class.hammerwin@laposte.fr']\n",
    "evaluate_data = t.texts_to_matrix(evaluate_data, mode='count')\n",
    "predicted_classes = model.predict_classes(evaluate_data)\n",
    "print(predicted_classes)"
   ]
  }
 ],
 "metadata": {
  "kernelspec": {
   "display_name": "Python 3",
   "language": "python",
   "name": "python3"
  },
  "language_info": {
   "codemirror_mode": {
    "name": "ipython",
    "version": 3
   },
   "file_extension": ".py",
   "mimetype": "text/x-python",
   "name": "python",
   "nbconvert_exporter": "python",
   "pygments_lexer": "ipython3",
   "version": "3.5.5"
  }
 },
 "nbformat": 4,
 "nbformat_minor": 2
}
